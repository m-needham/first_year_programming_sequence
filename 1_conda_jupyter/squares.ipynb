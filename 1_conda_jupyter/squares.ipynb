{
 "cells": [
  {
   "cell_type": "code",
   "execution_count": null,
   "id": "3ee50444",
   "metadata": {},
   "outputs": [],
   "source": [
    "import numpy as np"
   ]
  },
  {
   "cell_type": "code",
   "execution_count": null,
   "id": "dc51054c",
   "metadata": {},
   "outputs": [],
   "source": [
    "integers = np.array([1,2,3,4,5])\n",
    "squares  = integers * integers"
   ]
  },
  {
   "cell_type": "code",
   "execution_count": null,
   "id": "1884d1b1",
   "metadata": {},
   "outputs": [],
   "source": [
    "for intg, sqr in zip(integers,squares):\n",
    "    print(f\"{intg} squared is {sqr}\")"
   ]
  },
  {
   "cell_type": "code",
   "execution_count": null,
   "id": "17b3d54e",
   "metadata": {},
   "outputs": [],
   "source": [
    "import matplotlib.pyplot as plt"
   ]
  },
  {
   "cell_type": "code",
   "execution_count": null,
   "id": "56e0fbf2",
   "metadata": {},
   "outputs": [],
   "source": [
    "fig, ax = plt.subplots(figsize=(4,4))\n",
    "\n",
    "ax.plot(integers,squares,'bo-')"
   ]
  }
 ],
 "metadata": {
  "kernelspec": {
   "display_name": "Python 3 (ipykernel)",
   "language": "python",
   "name": "python3"
  },
  "language_info": {
   "codemirror_mode": {
    "name": "ipython",
    "version": 3
   },
   "file_extension": ".py",
   "mimetype": "text/x-python",
   "name": "python",
   "nbconvert_exporter": "python",
   "pygments_lexer": "ipython3",
   "version": "3.10.4"
  }
 },
 "nbformat": 4,
 "nbformat_minor": 5
}
