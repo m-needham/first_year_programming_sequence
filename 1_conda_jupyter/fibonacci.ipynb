{
 "cells": [
  {
   "cell_type": "code",
   "execution_count": null,
   "id": "44476a25",
   "metadata": {},
   "outputs": [],
   "source": [
    "import numpy as np\n",
    "import pandas as pd"
   ]
  },
  {
   "cell_type": "code",
   "execution_count": null,
   "id": "b8559604",
   "metadata": {},
   "outputs": [],
   "source": [
    "# Import the csv file and store in a pandas dataframe\n",
    "\n",
    "# NOTE: This assumes the csv file is in the same directory\n",
    "# as this notebook. If this is not true, will need to\n",
    "# change the path to the csv file\n",
    "\n",
    "path_to_csv = \"./fibonacci.csv\"\n",
    "\n",
    "fibonacci_df = pd.read_csv(path_to_csv,index_col=0)\n",
    "fibonacci_sr = fibonacci_df[\"0\"]"
   ]
  },
  {
   "cell_type": "code",
   "execution_count": null,
   "id": "daae3cc0",
   "metadata": {},
   "outputs": [],
   "source": [
    "for i in range(len(fibonacci_sr)):\n",
    "    \n",
    "    # Ensure the ordinal numbers are displayed correctly\n",
    "    # because english has weird rules\n",
    "    if i == 1:\n",
    "        ordn = \"st\"\n",
    "    \n",
    "    elif i == 2:\n",
    "        ordn = \"nd\"\n",
    "        \n",
    "    elif i == 3:\n",
    "        ordn = \"rd\"\n",
    "        \n",
    "    else:\n",
    "        ordn = \"th\"        \n",
    "    \n",
    "    print_string = f\"The {str(i).rjust(2)}{ordn} Fibonacci Number is {fibonacci_sr[i]}\"\n",
    "    print(print_string)"
   ]
  },
  {
   "cell_type": "code",
   "execution_count": null,
   "id": "f32fbad7",
   "metadata": {},
   "outputs": [],
   "source": []
  }
 ],
 "metadata": {
  "kernelspec": {
   "display_name": "Python 3 (ipykernel)",
   "language": "python",
   "name": "python3"
  },
  "language_info": {
   "codemirror_mode": {
    "name": "ipython",
    "version": 3
   },
   "file_extension": ".py",
   "mimetype": "text/x-python",
   "name": "python",
   "nbconvert_exporter": "python",
   "pygments_lexer": "ipython3",
   "version": "3.10.4"
  }
 },
 "nbformat": 4,
 "nbformat_minor": 5
}
