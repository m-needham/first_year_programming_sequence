{
 "cells": [
  {
   "cell_type": "code",
   "execution_count": 2,
   "id": "44476a25",
   "metadata": {},
   "outputs": [],
   "source": [
    "import numpy as np\n",
    "import pandas as pd"
   ]
  },
  {
   "cell_type": "code",
   "execution_count": 3,
   "id": "b8559604",
   "metadata": {},
   "outputs": [],
   "source": [
    "# Import the csv file and store in a pandas dataframe\n",
    "\n",
    "# NOTE: This assumes the csv file is in the same directory\n",
    "# as this notebook. If this is not true, will need to\n",
    "# change the path to the csv file\n",
    "\n",
    "path_to_csv = \"./fibonacci.csv\"\n",
    "\n",
    "fibonacci_df = pd.read_csv(path_to_csv,index_col=0)\n",
    "fibonacci_sr = fibonacci_df[\"0\"]"
   ]
  },
  {
   "cell_type": "code",
   "execution_count": 4,
   "id": "daae3cc0",
   "metadata": {},
   "outputs": [
    {
     "name": "stdout",
     "output_type": "stream",
     "text": [
      "The  0th Fibonacci Number is 0\n",
      "The  1st Fibonacci Number is 1\n",
      "The  2nd Fibonacci Number is 1\n",
      "The  3rd Fibonacci Number is 2\n",
      "The  4th Fibonacci Number is 3\n",
      "The  5th Fibonacci Number is 5\n",
      "The  6th Fibonacci Number is 8\n",
      "The  7th Fibonacci Number is 13\n",
      "The  8th Fibonacci Number is 21\n",
      "The  9th Fibonacci Number is 34\n",
      "The 10th Fibonacci Number is 55\n",
      "The 11th Fibonacci Number is 89\n",
      "The 12th Fibonacci Number is 144\n",
      "The 13th Fibonacci Number is 233\n",
      "The 14th Fibonacci Number is 377\n",
      "The 15th Fibonacci Number is 610\n",
      "The 16th Fibonacci Number is 987\n",
      "The 17th Fibonacci Number is 1597\n",
      "The 18th Fibonacci Number is 2584\n",
      "The 19th Fibonacci Number is 4181\n",
      "The 20th Fibonacci Number is 6765\n",
      "The 21th Fibonacci Number is 10946\n",
      "The 22th Fibonacci Number is 17711\n",
      "The 23th Fibonacci Number is 28657\n",
      "The 24th Fibonacci Number is 46368\n",
      "The 25th Fibonacci Number is 75025\n",
      "The 26th Fibonacci Number is 121393\n",
      "The 27th Fibonacci Number is 196418\n",
      "The 28th Fibonacci Number is 317811\n",
      "The 29th Fibonacci Number is 514229\n",
      "The 30th Fibonacci Number is 832040\n",
      "The 31th Fibonacci Number is 1346269\n",
      "The 32th Fibonacci Number is 2178309\n",
      "The 33th Fibonacci Number is 3524578\n",
      "The 34th Fibonacci Number is 5702887\n"
     ]
    }
   ],
   "source": [
    "for i in range(len(fibonacci_sr)):\n",
    "    \n",
    "    if i == 1:\n",
    "        ordn = \"st\"\n",
    "    \n",
    "    elif i == 2:\n",
    "        ordn = \"nd\"\n",
    "        \n",
    "    elif i == 3:\n",
    "        ordn = \"rd\"\n",
    "        \n",
    "    else:\n",
    "        ordn = \"th\"        \n",
    "    \n",
    "    \n",
    "    print_string = f\"The {str(i).rjust(2)}{ordn} Fibonacci Number is {fibonacci_sr[i]}\"\n",
    "    print(print_string)"
   ]
  },
  {
   "cell_type": "code",
   "execution_count": null,
   "id": "f32fbad7",
   "metadata": {},
   "outputs": [],
   "source": []
  }
 ],
 "metadata": {
  "kernelspec": {
   "display_name": "Python 3 (ipykernel)",
   "language": "python",
   "name": "python3"
  },
  "language_info": {
   "codemirror_mode": {
    "name": "ipython",
    "version": 3
   },
   "file_extension": ".py",
   "mimetype": "text/x-python",
   "name": "python",
   "nbconvert_exporter": "python",
   "pygments_lexer": "ipython3",
   "version": "3.10.4"
  }
 },
 "nbformat": 4,
 "nbformat_minor": 5
}
